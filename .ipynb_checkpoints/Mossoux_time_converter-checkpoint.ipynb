{
 "cells": [
  {
   "cell_type": "code",
   "execution_count": 6,
   "metadata": {},
   "outputs": [],
   "source": [
    "import numpy as np\n",
    "from astropy.time import Time, TimeDelta\n",
    "times = ['2012-02-09 00:00:00']\n",
    "t = Time(times, format='iso', scale='utc')"
   ]
  },
  {
   "cell_type": "code",
   "execution_count": 9,
   "metadata": {},
   "outputs": [],
   "source": [
    "#14:25:32\n",
    "#\n",
    "flare_s = TimeDelta(14*3600+25*60+32,format='sec')\n",
    "flare_e = TimeDelta(16*3600+3*60+51,format='sec')"
   ]
  },
  {
   "cell_type": "code",
   "execution_count": 10,
   "metadata": {},
   "outputs": [
    {
     "name": "stdout",
     "output_type": "stream",
     "text": [
      "[55966.60106481]\n",
      "[55966.66934028]\n"
     ]
    }
   ],
   "source": [
    "t_s = t + flare_s\n",
    "t_e = t + flare_e\n",
    "print(t_s.mjd)\n",
    "print(t_e.mjd)"
   ]
  },
  {
   "cell_type": "code",
   "execution_count": null,
   "metadata": {},
   "outputs": [],
   "source": []
  }
 ],
 "metadata": {
  "kernelspec": {
   "display_name": "Python [conda env:py36]",
   "language": "python",
   "name": "conda-env-py36-py"
  },
  "language_info": {
   "codemirror_mode": {
    "name": "ipython",
    "version": 3
   },
   "file_extension": ".py",
   "mimetype": "text/x-python",
   "name": "python",
   "nbconvert_exporter": "python",
   "pygments_lexer": "ipython3",
   "version": "3.6.7"
  }
 },
 "nbformat": 4,
 "nbformat_minor": 2
}
