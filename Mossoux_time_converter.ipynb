{
 "cells": [
  {
   "cell_type": "markdown",
   "metadata": {},
   "source": [
    "Mossoux report their flare time values in UT from the start of the observing day. To compare with the other authors, we need to convert those values to MJD."
   ]
  },
  {
   "cell_type": "code",
   "execution_count": 147,
   "metadata": {},
   "outputs": [],
   "source": [
    "import numpy as np\n",
    "from astropy.time import Time, TimeDelta\n",
    "times = ['2015-10-21 00:00:00']\n",
    "t = Time(times, format='iso', scale='utc')"
   ]
  },
  {
   "cell_type": "code",
   "execution_count": 148,
   "metadata": {},
   "outputs": [],
   "source": [
    "#14:25:32\n",
    "#\n",
    "flare_s = TimeDelta(13*3600+19*60+58,format='sec')\n",
    "flare_e = TimeDelta(13*3600+22*60+14,format='sec')"
   ]
  },
  {
   "cell_type": "code",
   "execution_count": 149,
   "metadata": {},
   "outputs": [
    {
     "name": "stdout",
     "output_type": "stream",
     "text": [
      "[57316.55553241]\n",
      "[57316.55710648]\n"
     ]
    }
   ],
   "source": [
    "t_s = t + flare_s\n",
    "t_e = t + flare_e\n",
    "print(t_s.mjd)\n",
    "print(t_e.mjd)"
   ]
  },
  {
   "cell_type": "code",
   "execution_count": null,
   "metadata": {},
   "outputs": [],
   "source": []
  }
 ],
 "metadata": {
  "kernelspec": {
   "display_name": "Python [conda env:py36]",
   "language": "python",
   "name": "conda-env-py36-py"
  },
  "language_info": {
   "codemirror_mode": {
    "name": "ipython",
    "version": 3
   },
   "file_extension": ".py",
   "mimetype": "text/x-python",
   "name": "python",
   "nbconvert_exporter": "python",
   "pygments_lexer": "ipython3",
   "version": "3.6.7"
  }
 },
 "nbformat": 4,
 "nbformat_minor": 2
}
